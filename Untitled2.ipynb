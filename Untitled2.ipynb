{
 "cells": [
  {
   "cell_type": "code",
   "execution_count": 1,
   "id": "7c470119",
   "metadata": {},
   "outputs": [],
   "source": [
    "from bs4 import BeautifulSoup\n",
    "import requests\n",
    "import pandas as pd "
   ]
  },
  {
   "cell_type": "code",
   "execution_count": 2,
   "id": "dd7c74dc",
   "metadata": {},
   "outputs": [],
   "source": [
    "#Les années de l'euro de 1968\n",
    "years = [1968,1972,1976,1980,1984,1988,1992,1996,2000,2004,2008,2012,2016,2020]"
   ]
  },
  {
   "cell_type": "code",
   "execution_count": 3,
   "id": "eb846be8",
   "metadata": {},
   "outputs": [],
   "source": [
    "#Fonction qui récupère les matchs\n",
    "def get_matches(year):\n",
    "\n",
    "    web = f\"https://fr.wikipedia.org/wiki/Championnat_d%27Europe_de_football_{year}\"\n",
    "    response = requests.get(web)\n",
    "    content = response.text\n",
    "    soup = BeautifulSoup(content,'lxml')\n",
    "\n",
    "    matches = soup.find_all('table', attrs={'width': '100%', 'style': 'line-height:1.4; margin-bottom:0.0em; border-spacing:0px 2px; background:#f9f9f9;'})\n",
    "    matche = soup.find_all('table', attrs={'width': '100%', 'style': 'line-height:1.4; margin-bottom:0.0em; border-spacing:0px 2px; background:#F7F6A8;'})\n",
    "    \n",
    "    all_match = matches + matche\n",
    "\n",
    "    home = []\n",
    "    score= []\n",
    "    away = []\n",
    "\n",
    "    for match in all_match:\n",
    "        home.append(match.find('td',attrs={'width' :'23%', 'align' : 'right'}).get_text())\n",
    "        score.append(match.find('td',attrs={'width' :'10%', 'align' : 'center'}).get_text())\n",
    "        away.append(match.find('td',attrs={'width' :'23%', 'align' : 'left'}).get_text())\n",
    "\n",
    "    dict_football = {'home' : home,'score': score,'away': away}\n",
    "    df_football = pd.DataFrame(dict_football)\n",
    "    df_football['year'] = year\n",
    "    \n",
    "    for colonne in df_football.select_dtypes(include='object').columns:\n",
    "        df_football[colonne] = df_football[colonne].str.replace('\\n', '')\n",
    "        \n",
    "    return df_football"
   ]
  },
  {
   "cell_type": "code",
   "execution_count": 4,
   "id": "1dc107cf",
   "metadata": {},
   "outputs": [],
   "source": [
    "#Fonction qui récupère les matchs et enleve les scores\n",
    "def get_matches1(year):\n",
    "\n",
    "    web = f\"https://fr.wikipedia.org/wiki/Championnat_d%27Europe_de_football_{year}\"\n",
    "    response = requests.get(web)\n",
    "    content = response.text\n",
    "    soup = BeautifulSoup(content,'lxml')\n",
    "\n",
    "    matches = soup.find_all('table', attrs={'width': '100%', 'style': 'line-height:1.4; margin-bottom:0.0em; border-spacing:0px 2px; background:#f9f9f9;'})\n",
    "    matche = soup.find_all('table', attrs={'width': '100%', 'style': 'line-height:1.4; margin-bottom:0.0em; border-spacing:0px 2px; background:#F7F6A8;'})\n",
    "    matchef = soup.find_all('table', attrs={'width': '100%', 'style': 'line-height:1.4; margin-bottom:0.0em; border-spacing:0px 2px; background:#fffcaf;'})\n",
    "    all_match = matches + matche + matchef\n",
    "\n",
    "    home = []\n",
    "    score= []\n",
    "    away = []\n",
    "\n",
    "    for match in all_match:\n",
    "        home.append(match.find('td',attrs={'width' :'23%', 'align' : 'right'}).get_text())\n",
    "        score.append(match.find('td',attrs={'width' :'20%', 'align' : 'center','style' : 'font-size:95%'}).get_text())\n",
    "        away.append(match.find('td',attrs={'width' :'23%', 'align' : 'left'}).get_text())\n",
    "\n",
    "    dict_football = {'home' : home,'score': score,'away': away}\n",
    "    df_football = pd.DataFrame(dict_football)\n",
    "    df_football['year'] = year\n",
    "    \n",
    "    for colonne in df_football.select_dtypes(include='object').columns:\n",
    "        df_football[colonne] = df_football[colonne].str.replace('\\n', '')\n",
    "        \n",
    "    return df_football"
   ]
  },
  {
   "cell_type": "code",
   "execution_count": 7,
   "id": "874f2f2e",
   "metadata": {},
   "outputs": [],
   "source": [
    "\"\"\"def get_matches2(year):\n",
    "\n",
    "    web = f\"https://fr.wikipedia.org/wiki/Championnat_d%27Europe_de_football_{year}\"\n",
    "    response = requests.get(web)\n",
    "    content = response.text\n",
    "    soup = BeautifulSoup(content,'lxml')\n",
    "\n",
    "    matches = soup.find_all('table', attrs={'width': '100%', 'style': 'line-height:1.4; margin-bottom:0.0em; border-spacing:0px 2px; background:#f9f9f9;'})\n",
    "    matche = soup.find_all('table', attrs={'width': '100%', 'style': 'line-height:1.4; margin-bottom:0.0em; border-spacing:0px 2px; background:#F7F6A8;'})\n",
    "    matchef = soup.find_all('table', attrs={'width': '100%', 'style': 'line-height:1.4; margin-bottom:0.0em; border-spacing:0px 2px; background:#fffcaf;'})\n",
    "    all_match = matches + matche + matchef\n",
    "\n",
    "    home = []\n",
    "    score= []\n",
    "    away = []\n",
    "\n",
    "    for match in all_match:\n",
    "        home.append(match.find('td',attrs={'width' :'23%', 'align' : 'right'}).get_text())\n",
    "        score.append(match.find('td',attrs={'width' :'20%', 'align' : 'center','style' : 'font-size:95%'}).get_text())\n",
    "        away.append(match.find('td',attrs={'width' :'23%', 'align' : 'left'}).get_text())\n",
    "\n",
    "    dict_football = {'home' : home,'score': score,'away': away}\n",
    "    df_football = pd.DataFrame(dict_football)\n",
    "    df_football['year'] = year\n",
    "    \n",
    "    for colonne in df_football.select_dtypes(include='object').columns:\n",
    "        df_football[colonne] = df_football[colonne].str.replace('\\n', '')\n",
    "        \n",
    "    return df_football\"\"\""
   ]
  },
  {
   "cell_type": "code",
   "execution_count": 5,
   "id": "9f36a1bc",
   "metadata": {},
   "outputs": [],
   "source": [
    "#Récupération des scores des matchs \n",
    "fifa = [get_matches(year) for year in years]\n",
    "df_fifa = pd.concat(fifa,ignore_index=True)\n",
    "df_fifa.to_csv('fifa_euro_historical_data.csv',index=False)"
   ]
  },
  {
   "cell_type": "code",
   "execution_count": 9,
   "id": "76bf4984",
   "metadata": {},
   "outputs": [],
   "source": [
    "#Recupération des scores vide pour pouvoir effectuer les prédictions\n",
    "df_fixture = get_matches1(2024)\n",
    "df_fixture.to_csv(\"fifa_euro_fixture.csv\",index=False)"
   ]
  },
  {
   "cell_type": "code",
   "execution_count": 10,
   "id": "bc58249e",
   "metadata": {},
   "outputs": [],
   "source": [
    "\"\"\"df_fixture = get_matches2(2020)\n",
    "df_fixture.to_csv(\"fifa_euro_fixture1.csv\",index=False)\"\"\""
   ]
  }
 ],
 "metadata": {
  "kernelspec": {
   "display_name": "Python 3 (ipykernel)",
   "language": "python",
   "name": "python3"
  },
  "language_info": {
   "codemirror_mode": {
    "name": "ipython",
    "version": 3
   },
   "file_extension": ".py",
   "mimetype": "text/x-python",
   "name": "python",
   "nbconvert_exporter": "python",
   "pygments_lexer": "ipython3",
   "version": "3.11.4"
  }
 },
 "nbformat": 4,
 "nbformat_minor": 5
}
