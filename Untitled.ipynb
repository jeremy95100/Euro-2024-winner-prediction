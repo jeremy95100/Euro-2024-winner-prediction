{
 "cells": [
  {
   "cell_type": "code",
   "execution_count": 2,
   "id": "46de1b94",
   "metadata": {},
   "outputs": [],
   "source": [
    "import pandas as pd\n",
    "from string import ascii_uppercase as alphabet\n",
    "import pickle"
   ]
  },
  {
   "cell_type": "code",
   "execution_count": 3,
   "id": "4e8093fc",
   "metadata": {},
   "outputs": [],
   "source": [
    "#Lecture du fichier html\n",
    "all_tables = pd.read_html('https://fr.wikipedia.org/wiki/Championnat_d%27Europe_de_football_2024')"
   ]
  },
  {
   "cell_type": "code",
   "execution_count": 6,
   "id": "477fba2e",
   "metadata": {},
   "outputs": [],
   "source": [
    "#Création table avec les groupes \n",
    "dict_table = {}\n",
    "for letter,i in zip(alphabet, range(11,53,7)):\n",
    "    df=all_tables[i]\n",
    "    df.rename(columns={df.columns[0]:'Pos'},inplace=True)   \n",
    "    dict_table[f'Group {letter}'] = df"
   ]
  },
  {
   "cell_type": "code",
   "execution_count": 5,
   "id": "82279e6c",
   "metadata": {},
   "outputs": [],
   "source": [
    "with open('dict_table','wb') as output:\n",
    "    pickle.dump(dict_table, output)"
   ]
  }
 ],
 "metadata": {
  "kernelspec": {
   "display_name": "Python 3 (ipykernel)",
   "language": "python",
   "name": "python3"
  },
  "language_info": {
   "codemirror_mode": {
    "name": "ipython",
    "version": 3
   },
   "file_extension": ".py",
   "mimetype": "text/x-python",
   "name": "python",
   "nbconvert_exporter": "python",
   "pygments_lexer": "ipython3",
   "version": "3.11.4"
  }
 },
 "nbformat": 4,
 "nbformat_minor": 5
}
