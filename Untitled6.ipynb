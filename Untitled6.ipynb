{
 "cells": [
  {
   "cell_type": "code",
   "execution_count": 1,
   "id": "72b48509",
   "metadata": {},
   "outputs": [],
   "source": [
    "import pandas as pd "
   ]
  },
  {
   "cell_type": "code",
   "execution_count": 2,
   "id": "dcbf0763",
   "metadata": {},
   "outputs": [],
   "source": [
    "#Dataframe des données avec les scores, Dataframe \n",
    "df_historical_data = pd.read_csv('fifa_euro_historical_data.csv')\n",
    "df_fixture = pd.read_csv('fifa_euro_fixture.csv')\n",
    "df_missing_data = pd.read_csv('fifa_euro_missing_data')"
   ]
  },
  {
   "cell_type": "code",
   "execution_count": 3,
   "id": "81819d9d",
   "metadata": {},
   "outputs": [
    {
     "data": {
      "text/html": [
       "<div>\n",
       "<style scoped>\n",
       "    .dataframe tbody tr th:only-of-type {\n",
       "        vertical-align: middle;\n",
       "    }\n",
       "\n",
       "    .dataframe tbody tr th {\n",
       "        vertical-align: top;\n",
       "    }\n",
       "\n",
       "    .dataframe thead th {\n",
       "        text-align: right;\n",
       "    }\n",
       "</style>\n",
       "<table border=\"1\" class=\"dataframe\">\n",
       "  <thead>\n",
       "    <tr style=\"text-align: right;\">\n",
       "      <th></th>\n",
       "      <th>home</th>\n",
       "      <th>score</th>\n",
       "      <th>away</th>\n",
       "      <th>year</th>\n",
       "    </tr>\n",
       "  </thead>\n",
       "  <tbody>\n",
       "    <tr>\n",
       "      <th>0</th>\n",
       "      <td>Portugal</td>\n",
       "      <td>1-1</td>\n",
       "      <td>Grèce</td>\n",
       "      <td>2004</td>\n",
       "    </tr>\n",
       "    <tr>\n",
       "      <th>1</th>\n",
       "      <td>Espagne</td>\n",
       "      <td>1-0</td>\n",
       "      <td>Russie</td>\n",
       "      <td>2004</td>\n",
       "    </tr>\n",
       "    <tr>\n",
       "      <th>2</th>\n",
       "      <td>Portugal</td>\n",
       "      <td>2-0</td>\n",
       "      <td>Russie</td>\n",
       "      <td>2004</td>\n",
       "    </tr>\n",
       "    <tr>\n",
       "      <th>3</th>\n",
       "      <td>Grèce</td>\n",
       "      <td>1-1</td>\n",
       "      <td>Espagne</td>\n",
       "      <td>2004</td>\n",
       "    </tr>\n",
       "    <tr>\n",
       "      <th>4</th>\n",
       "      <td>Portugal</td>\n",
       "      <td>1-0</td>\n",
       "      <td>Espagne</td>\n",
       "      <td>2004</td>\n",
       "    </tr>\n",
       "    <tr>\n",
       "      <th>...</th>\n",
       "      <td>...</td>\n",
       "      <td>...</td>\n",
       "      <td>...</td>\n",
       "      <td>...</td>\n",
       "    </tr>\n",
       "    <tr>\n",
       "      <th>67</th>\n",
       "      <td>Ukraine</td>\n",
       "      <td>2 - 1</td>\n",
       "      <td>Suède</td>\n",
       "      <td>2012</td>\n",
       "    </tr>\n",
       "    <tr>\n",
       "      <th>68</th>\n",
       "      <td>Ukraine</td>\n",
       "      <td>0 - 2</td>\n",
       "      <td>France</td>\n",
       "      <td>2012</td>\n",
       "    </tr>\n",
       "    <tr>\n",
       "      <th>69</th>\n",
       "      <td>Suède</td>\n",
       "      <td>2 - 3</td>\n",
       "      <td>Angleterre</td>\n",
       "      <td>2012</td>\n",
       "    </tr>\n",
       "    <tr>\n",
       "      <th>70</th>\n",
       "      <td>Angleterre</td>\n",
       "      <td>1 - 0</td>\n",
       "      <td>Ukraine</td>\n",
       "      <td>2012</td>\n",
       "    </tr>\n",
       "    <tr>\n",
       "      <th>71</th>\n",
       "      <td>Suède</td>\n",
       "      <td>2 - 0</td>\n",
       "      <td>France</td>\n",
       "      <td>2012</td>\n",
       "    </tr>\n",
       "  </tbody>\n",
       "</table>\n",
       "<p>72 rows × 4 columns</p>\n",
       "</div>"
      ],
      "text/plain": [
       "          home  score        away  year\n",
       "0     Portugal    1-1       Grèce  2004\n",
       "1      Espagne    1-0      Russie  2004\n",
       "2     Portugal    2-0      Russie  2004\n",
       "3        Grèce    1-1     Espagne  2004\n",
       "4     Portugal    1-0     Espagne  2004\n",
       "..         ...    ...         ...   ...\n",
       "67     Ukraine  2 - 1       Suède  2012\n",
       "68     Ukraine  0 - 2      France  2012\n",
       "69       Suède  2 - 3  Angleterre  2012\n",
       "70  Angleterre  1 - 0     Ukraine  2012\n",
       "71       Suède  2 - 0      France  2012\n",
       "\n",
       "[72 rows x 4 columns]"
      ]
     },
     "execution_count": 3,
     "metadata": {},
     "output_type": "execute_result"
    }
   ],
   "source": [
    "df_missing_data.drop(columns=['Unnamed: 0']) "
   ]
  },
  {
   "cell_type": "code",
   "execution_count": 4,
   "id": "2f2232b3",
   "metadata": {},
   "outputs": [],
   "source": [
    "df_historical_data = pd.concat([df_historical_data,df_missing_data])\n",
    "df2 = df_historical_data.groupby('year').size()"
   ]
  },
  {
   "cell_type": "code",
   "execution_count": 5,
   "id": "8fb5a7eb",
   "metadata": {},
   "outputs": [],
   "source": [
    "df_historical_data = df_historical_data.drop(columns=['Unnamed: 0']) "
   ]
  },
  {
   "cell_type": "markdown",
   "id": "8c7164e3",
   "metadata": {},
   "source": [
    "# 1.1 Cleaning df_fixture"
   ]
  },
  {
   "cell_type": "code",
   "execution_count": 6,
   "id": "1a5c8619",
   "metadata": {},
   "outputs": [],
   "source": [
    "df_fixture['home'] = df_fixture['home'].str.strip()\n",
    "df_fixture['away'] = df_fixture['away'].str.strip()\n"
   ]
  },
  {
   "cell_type": "code",
   "execution_count": 7,
   "id": "c0a9c7d6",
   "metadata": {},
   "outputs": [],
   "source": [
    "df_historical_data['home'] = df_historical_data['home'].str.strip()\n",
    "df_historical_data['away'] = df_historical_data['away'].str.strip()\n"
   ]
  },
  {
   "cell_type": "code",
   "execution_count": 8,
   "id": "4e7edd8c",
   "metadata": {},
   "outputs": [],
   "source": [
    "pd.set_option('display.max_rows',None)"
   ]
  },
  {
   "cell_type": "code",
   "execution_count": 9,
   "id": "7aeebf1e",
   "metadata": {},
   "outputs": [],
   "source": [
    "df_historical_data['score'] = df_historical_data['score'].str.replace('-', '–')"
   ]
  },
  {
   "cell_type": "code",
   "execution_count": 10,
   "id": "03ebcd52",
   "metadata": {},
   "outputs": [],
   "source": [
    "df_historical_data['score'] = df_historical_data['score'].str.replace('[^\\d–]', '', regex=True)\n",
    "\n",
    "mask = df_historical_data['score'] == \"1–11–3\"\n",
    "mask1 = df_historical_data['score'] == \"0–04–2\"\n",
    "\n",
    "# Remplacer la ligne sélectionnée par \"0-0\"\n",
    "df_historical_data.loc[mask, 'score'] = \"1–1\"\n",
    "df_historical_data.loc[mask1, 'score'] = \"0–0\""
   ]
  },
  {
   "cell_type": "code",
   "execution_count": 11,
   "id": "bab2eaf7",
   "metadata": {},
   "outputs": [],
   "source": [
    "df_historical_data[['HomeGoals','AwayGoals']] = df_historical_data[\"score\"].str.split(\"–\",expand=True)\n",
    "df_historical_data.drop('score',axis=1,inplace=True)\n",
    "df_historical_data.rename(columns={'home' : 'HomeTeam', 'away' : 'AwayTeam','year' : 'Year'},inplace=True)\n",
    "df_historical_data = df_historical_data.astype({'HomeGoals': int,'AwayGoals': int, 'Year': int})"
   ]
  },
  {
   "cell_type": "code",
   "execution_count": 12,
   "id": "9d1199c3",
   "metadata": {},
   "outputs": [],
   "source": [
    "#create new columns totalgoal\n",
    "df_historical_data['TotalGoals'] = df_historical_data['HomeGoals'] + df_historical_data['AwayGoals']"
   ]
  },
  {
   "cell_type": "code",
   "execution_count": 13,
   "id": "5e3e0197",
   "metadata": {},
   "outputs": [],
   "source": [
    "team_mapping = {\n",
    "    \"Allemagne de l'Ouest\": \"Allemagne\",\n",
    "    \"Allemagne2e groupe B\": \"Allemagne\",\n",
    "    \"Croatie 1er groupe B\": \"Croatie\",\n",
    "    \"Espagne 1er groupe D\": \"Espagne\",\n",
    "    \"Italie2e groupe C\": \"Italie\",\n",
    "    \"Pays-Bas 1er groupe C\": \"Pays-Bas\",\n",
    "    \"Portugal 1er groupe A\": \"Portugal\",\n",
    "    \"RF Yougoslavie\": \"Yougoslavie\",\n",
    "    \"Russie2e groupe D\": \"Russie\",\n",
    "    \"République d'Irlande\": \"Irlande\",\n",
    "    \"Turquie2e groupe A\": \"Turquie\",\n",
    "}\n",
    "\n",
    "df_historical_data['HomeTeam'] = df_historical_data['HomeTeam'].replace(team_mapping)\n",
    "df_historical_data['AwayTeam'] = df_historical_data['AwayTeam'].replace(team_mapping)"
   ]
  },
  {
   "cell_type": "markdown",
   "id": "93224d2d",
   "metadata": {},
   "source": [
    "# Exporting cleaning df\n"
   ]
  },
  {
   "cell_type": "code",
   "execution_count": 14,
   "id": "913d491e",
   "metadata": {},
   "outputs": [],
   "source": [
    "#df_fixture.to_csv('clean_fifa_euro_fixture.csv',index=False)\n",
    "#import mitosheet \n",
    "#mitosheet.sheet(analysis_to_replay=\"id-dnhbbcbxwy\")"
   ]
  }
 ],
 "metadata": {
  "kernelspec": {
   "display_name": "Python 3 (ipykernel)",
   "language": "python",
   "name": "python3"
  },
  "language_info": {
   "codemirror_mode": {
    "name": "ipython",
    "version": 3
   },
   "file_extension": ".py",
   "mimetype": "text/x-python",
   "name": "python",
   "nbconvert_exporter": "python",
   "pygments_lexer": "ipython3",
   "version": "3.11.4"
  }
 },
 "nbformat": 4,
 "nbformat_minor": 5
}
