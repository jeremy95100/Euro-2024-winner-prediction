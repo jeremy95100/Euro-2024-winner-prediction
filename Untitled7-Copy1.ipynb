{
 "cells": [
  {
   "cell_type": "code",
   "execution_count": 1,
   "id": "8e2edc90",
   "metadata": {},
   "outputs": [],
   "source": [
    "import pandas as pd\n",
    "import pickle\n",
    "from scipy.stats import poisson\n",
    "from string import ascii_uppercase as alphabet"
   ]
  },
  {
   "cell_type": "code",
   "execution_count": 2,
   "id": "2763feef",
   "metadata": {},
   "outputs": [],
   "source": [
    "dict_table = pickle.load(open('dict_table','rb'))\n",
    "df_historical_data = pd.read_csv('clean_fifa_euro_matches.csv')\n",
    "df_fixture = pd.read_csv('clean_fifa_euro_fixture.csv')"
   ]
  },
  {
   "cell_type": "code",
   "execution_count": 81,
   "id": "0d99cc1e",
   "metadata": {},
   "outputs": [],
   "source": [
    "df_historical1 = df_historical_data[df_historical_data.Year == 2020]"
   ]
  },
  {
   "cell_type": "code",
   "execution_count": 82,
   "id": "9e1607eb",
   "metadata": {},
   "outputs": [
    {
     "data": {
      "text/html": [
       "<div>\n",
       "<style scoped>\n",
       "    .dataframe tbody tr th:only-of-type {\n",
       "        vertical-align: middle;\n",
       "    }\n",
       "\n",
       "    .dataframe tbody tr th {\n",
       "        vertical-align: top;\n",
       "    }\n",
       "\n",
       "    .dataframe thead th {\n",
       "        text-align: right;\n",
       "    }\n",
       "</style>\n",
       "<table border=\"1\" class=\"dataframe\">\n",
       "  <thead>\n",
       "    <tr style=\"text-align: right;\">\n",
       "      <th></th>\n",
       "      <th>GoalsScored</th>\n",
       "      <th>GoalsConceded</th>\n",
       "    </tr>\n",
       "    <tr>\n",
       "      <th>Team</th>\n",
       "      <th></th>\n",
       "      <th></th>\n",
       "    </tr>\n",
       "  </thead>\n",
       "  <tbody>\n",
       "    <tr>\n",
       "      <th>Allemagne</th>\n",
       "      <td>1.500000</td>\n",
       "      <td>1.750000</td>\n",
       "    </tr>\n",
       "    <tr>\n",
       "      <th>Angleterre</th>\n",
       "      <td>1.571429</td>\n",
       "      <td>0.285714</td>\n",
       "    </tr>\n",
       "    <tr>\n",
       "      <th>Autriche</th>\n",
       "      <td>1.250000</td>\n",
       "      <td>1.250000</td>\n",
       "    </tr>\n",
       "    <tr>\n",
       "      <th>Belgique</th>\n",
       "      <td>1.800000</td>\n",
       "      <td>0.600000</td>\n",
       "    </tr>\n",
       "    <tr>\n",
       "      <th>Croatie</th>\n",
       "      <td>1.750000</td>\n",
       "      <td>2.000000</td>\n",
       "    </tr>\n",
       "    <tr>\n",
       "      <th>Danemark</th>\n",
       "      <td>2.000000</td>\n",
       "      <td>1.166667</td>\n",
       "    </tr>\n",
       "    <tr>\n",
       "      <th>Espagne</th>\n",
       "      <td>2.166667</td>\n",
       "      <td>1.000000</td>\n",
       "    </tr>\n",
       "    <tr>\n",
       "      <th>Finlande</th>\n",
       "      <td>0.333333</td>\n",
       "      <td>1.000000</td>\n",
       "    </tr>\n",
       "    <tr>\n",
       "      <th>France</th>\n",
       "      <td>1.750000</td>\n",
       "      <td>1.500000</td>\n",
       "    </tr>\n",
       "    <tr>\n",
       "      <th>Hongrie</th>\n",
       "      <td>1.000000</td>\n",
       "      <td>2.000000</td>\n",
       "    </tr>\n",
       "    <tr>\n",
       "      <th>Italie</th>\n",
       "      <td>1.857143</td>\n",
       "      <td>0.571429</td>\n",
       "    </tr>\n",
       "    <tr>\n",
       "      <th>Macédoine du Nord</th>\n",
       "      <td>0.666667</td>\n",
       "      <td>2.666667</td>\n",
       "    </tr>\n",
       "    <tr>\n",
       "      <th>Pays de Galles</th>\n",
       "      <td>0.750000</td>\n",
       "      <td>1.500000</td>\n",
       "    </tr>\n",
       "    <tr>\n",
       "      <th>Pays-Bas</th>\n",
       "      <td>2.000000</td>\n",
       "      <td>1.000000</td>\n",
       "    </tr>\n",
       "    <tr>\n",
       "      <th>Pologne</th>\n",
       "      <td>1.333333</td>\n",
       "      <td>2.000000</td>\n",
       "    </tr>\n",
       "    <tr>\n",
       "      <th>Portugal</th>\n",
       "      <td>1.750000</td>\n",
       "      <td>1.750000</td>\n",
       "    </tr>\n",
       "    <tr>\n",
       "      <th>Russie</th>\n",
       "      <td>0.666667</td>\n",
       "      <td>2.333333</td>\n",
       "    </tr>\n",
       "    <tr>\n",
       "      <th>Slovaquie</th>\n",
       "      <td>0.666667</td>\n",
       "      <td>2.333333</td>\n",
       "    </tr>\n",
       "    <tr>\n",
       "      <th>Suisse</th>\n",
       "      <td>1.600000</td>\n",
       "      <td>1.800000</td>\n",
       "    </tr>\n",
       "    <tr>\n",
       "      <th>Suède</th>\n",
       "      <td>1.250000</td>\n",
       "      <td>1.000000</td>\n",
       "    </tr>\n",
       "    <tr>\n",
       "      <th>Tchéquie</th>\n",
       "      <td>1.200000</td>\n",
       "      <td>0.800000</td>\n",
       "    </tr>\n",
       "    <tr>\n",
       "      <th>Turquie</th>\n",
       "      <td>0.333333</td>\n",
       "      <td>2.666667</td>\n",
       "    </tr>\n",
       "    <tr>\n",
       "      <th>Ukraine</th>\n",
       "      <td>1.200000</td>\n",
       "      <td>2.000000</td>\n",
       "    </tr>\n",
       "    <tr>\n",
       "      <th>Écosse</th>\n",
       "      <td>0.333333</td>\n",
       "      <td>1.666667</td>\n",
       "    </tr>\n",
       "  </tbody>\n",
       "</table>\n",
       "</div>"
      ],
      "text/plain": [
       "                   GoalsScored  GoalsConceded\n",
       "Team                                         \n",
       "Allemagne             1.500000       1.750000\n",
       "Angleterre            1.571429       0.285714\n",
       "Autriche              1.250000       1.250000\n",
       "Belgique              1.800000       0.600000\n",
       "Croatie               1.750000       2.000000\n",
       "Danemark              2.000000       1.166667\n",
       "Espagne               2.166667       1.000000\n",
       "Finlande              0.333333       1.000000\n",
       "France                1.750000       1.500000\n",
       "Hongrie               1.000000       2.000000\n",
       "Italie                1.857143       0.571429\n",
       "Macédoine du Nord     0.666667       2.666667\n",
       "Pays de Galles        0.750000       1.500000\n",
       "Pays-Bas              2.000000       1.000000\n",
       "Pologne               1.333333       2.000000\n",
       "Portugal              1.750000       1.750000\n",
       "Russie                0.666667       2.333333\n",
       "Slovaquie             0.666667       2.333333\n",
       "Suisse                1.600000       1.800000\n",
       "Suède                 1.250000       1.000000\n",
       "Tchéquie              1.200000       0.800000\n",
       "Turquie               0.333333       2.666667\n",
       "Ukraine               1.200000       2.000000\n",
       "Écosse                0.333333       1.666667"
      ]
     },
     "execution_count": 82,
     "metadata": {},
     "output_type": "execute_result"
    }
   ],
   "source": [
    "df_home = df_historical1[['HomeTeam', 'HomeGoals', 'AwayGoals']]\n",
    "df_away = df_historical1[['AwayTeam', 'HomeGoals', 'AwayGoals']]\n",
    "\n",
    "df_home = df_home.rename(columns={'HomeTeam':'Team', 'HomeGoals': 'GoalsScored', 'AwayGoals': 'GoalsConceded'})\n",
    "df_away = df_away.rename(columns={'AwayTeam':'Team', 'HomeGoals': 'GoalsConceded', 'AwayGoals': 'GoalsScored'})\n",
    "\n",
    "df_team_strength = pd.concat([df_home, df_away], ignore_index=True).groupby(['Team']).mean()\n",
    "df_team_strength"
   ]
  },
  {
   "cell_type": "code",
   "execution_count": 83,
   "id": "14af0594",
   "metadata": {},
   "outputs": [],
   "source": [
    "def predict_points(home, away):\n",
    "    if home in df_team_strength.index and away in df_team_strength.index:\n",
    "        # goals_scored * goals_conceded\n",
    "        lamb_home = df_team_strength.at[home,'GoalsScored'] * df_team_strength.at[away,'GoalsConceded']\n",
    "        lamb_away = df_team_strength.at[away,'GoalsScored'] * df_team_strength.at[home,'GoalsConceded']\n",
    "        prob_home, prob_away, prob_draw = 0, 0, 0\n",
    "        for x in range(0,11): #number of goals home team\n",
    "            for y in range(0, 11): #number of goals away team\n",
    "                p = poisson.pmf(x, lamb_home) * poisson.pmf(y, lamb_away)\n",
    "                if x == y:\n",
    "                    prob_draw += p\n",
    "                elif x > y:\n",
    "                    prob_home += p\n",
    "                else:\n",
    "                    prob_away += p\n",
    "        \n",
    "        points_home = 3 * prob_home + prob_draw\n",
    "        points_away = 3 * prob_away + prob_draw\n",
    "        return (points_home, points_away)\n",
    "    else:\n",
    "        return (0, 0)"
   ]
  },
  {
   "cell_type": "code",
   "execution_count": 132,
   "id": "19938aa9",
   "metadata": {},
   "outputs": [],
   "source": [
    "df_filtered = df_historical1[df_historical1['PreferredTeam'] != 'nul']\n",
    "df_match = df_historical1[df_historical1['PreferredTeam'] == 'nul']"
   ]
  },
  {
   "cell_type": "code",
   "execution_count": 173,
   "id": "5301b3fa",
   "metadata": {},
   "outputs": [
    {
     "name": "stdout",
     "output_type": "stream",
     "text": [
      "['Italie', 'nul', 'Pays de Galles', 'Italie', 'Italie', 'Suisse', 'Finlande', 'Belgique', 'Russie', 'Belgique', 'Danemark', 'Belgique', 'Autriche', 'Pays-Bas', 'Ukraine', 'Pays-Bas', 'Pays-Bas', 'Autriche', 'Angleterre', 'Tchéquie', 'nul', 'nul', 'Angleterre', 'Croatie', 'Slovaquie', 'nul', 'Suède', 'nul', 'Suède', 'Espagne', 'Portugal', 'France', 'nul', 'Allemagne', 'nul', 'nul', 'Danemark', 'Italie', 'Tchéquie', 'Belgique', 'Espagne', 'nul', 'Angleterre', 'Ukraine', 'nul', 'Italie', 'Danemark', 'Angleterre', 'nul', 'Angleterre', 'nul']\n"
     ]
    },
    {
     "name": "stderr",
     "output_type": "stream",
     "text": [
      "/tmp/ipykernel_12722/2149564015.py:1: SettingWithCopyWarning: \n",
      "A value is trying to be set on a copy of a slice from a DataFrame.\n",
      "Try using .loc[row_indexer,col_indexer] = value instead\n",
      "\n",
      "See the caveats in the documentation: https://pandas.pydata.org/pandas-docs/stable/user_guide/indexing.html#returning-a-view-versus-a-copy\n",
      "  df_historical1['PreferredTeam'] = df_historical1.apply(lambda row:\n"
     ]
    }
   ],
   "source": [
    "df_historical1['PreferredTeam'] = df_historical1.apply(lambda row: \n",
    "                                                      row['HomeTeam'] if row['HomeGoals'] > row['AwayGoals'] \n",
    "                                                      else (row['AwayTeam'] if row['HomeGoals'] < row['AwayGoals'] \n",
    "                                                            else 'nul'), \n",
    "                                                      axis=1)\n",
    "\n",
    "# Ajouter les équipes préférées dans une liste\n",
    "preferred_teams = df_historical1['PreferredTeam'].tolist()\n",
    "\n",
    "print(preferred_teams)"
   ]
  },
  {
   "cell_type": "code",
   "execution_count": 211,
   "id": "542509eb",
   "metadata": {},
   "outputs": [],
   "source": [
    "res= []\n",
    "for index,row in df_historical1.iterrows():\n",
    "    home,away = row['HomeTeam'],row['AwayTeam']\n",
    "    score = predict_points(home,away)\n",
    "    index = score.index(max(score))\n",
    "    distance = max(score)-min(score)\n",
    "    if distance < 1.35:\n",
    "        res.append('nul')\n",
    "    else:\n",
    "        res.append([home,away][index])"
   ]
  },
  {
   "cell_type": "code",
   "execution_count": 156,
   "id": "dee4c462",
   "metadata": {},
   "outputs": [],
   "source": [
    "res_draw_distance = []\n",
    "for index,row in df_match.iterrows():\n",
    "    home,away = row['HomeTeam'],row['AwayTeam']\n",
    "    score = predict_points(home,away)\n",
    "    index = score.index(max(score))\n",
    "    res_draw_distance.append(max(score)-min(score))\n"
   ]
  },
  {
   "cell_type": "code",
   "execution_count": 160,
   "id": "445458a7",
   "metadata": {},
   "outputs": [
    {
     "name": "stdout",
     "output_type": "stream",
     "text": [
      "1.35910149531386\n",
      "1.7442909013813959\n"
     ]
    }
   ],
   "source": [
    "print(np.mean(res_draw_distance))\n",
    "print(np.mean(res_winner_distance))"
   ]
  },
  {
   "cell_type": "code",
   "execution_count": 161,
   "id": "ab2229c1",
   "metadata": {},
   "outputs": [
    {
     "name": "stdout",
     "output_type": "stream",
     "text": [
      "1.1765430778970325\n",
      "1.9119576173012494\n"
     ]
    }
   ],
   "source": [
    "print(np.median(res_draw_distance))\n",
    "print(np.median(res_winner_distance))"
   ]
  },
  {
   "cell_type": "code",
   "execution_count": 182,
   "id": "eab82bc3",
   "metadata": {},
   "outputs": [
    {
     "data": {
      "text/plain": [
       "39"
      ]
     },
     "execution_count": 182,
     "metadata": {},
     "output_type": "execute_result"
    }
   ],
   "source": [
    "len(res)"
   ]
  },
  {
   "cell_type": "code",
   "execution_count": 212,
   "id": "d5b78f55",
   "metadata": {},
   "outputs": [
    {
     "data": {
      "image/png": "[encoded data removed]",
      "text/plain": [
       "<Figure size 800x600 with 2 Axes>"
      ]
     },
     "metadata": {},
     "output_type": "display_data"
    }
   ],
   "source": [
    "import numpy as np\n",
    "import matplotlib.pyplot as plt\n",
    "from sklearn.metrics import confusion_matrix\n",
    "import seaborn as sns\n",
    "\n",
    "actual = preferred_teams\n",
    "predicted = res\n",
    "\n",
    "# Créer une matrice de confusion à partir des deux listes\n",
    "conf_matrix = confusion_matrix(actual, predicted)\n",
    "\n",
    "# Créer une liste de toutes les classes impliquées\n",
    "classes = np.unique(actual + predicted)\n",
    "\n",
    "# Créer une heatmap colorée de la matrice de confusion\n",
    "plt.figure(figsize=(8, 6))\n",
    "sns.set(font_scale=1.2)\n",
    "sns.heatmap(conf_matrix, annot=True, cmap=\"Blues\", fmt='g', xticklabels=classes, yticklabels=classes)\n",
    "plt.xlabel('Predicted')\n",
    "plt.ylabel('Actual')\n",
    "plt.title('Matrice de Confusion')\n",
    "plt.show()\n",
    "\n"
   ]
  },
  {
   "cell_type": "code",
   "execution_count": 213,
   "id": "2d4ff3f9",
   "metadata": {},
   "outputs": [
    {
     "name": "stdout",
     "output_type": "stream",
     "text": [
      "Précision: 0.6862745098039216\n"
     ]
    }
   ],
   "source": [
    "from sklearn.metrics import accuracy_score\n",
    "precision = accuracy_score(actual, predicted)\n",
    "\n",
    "print(\"Précision:\", precision)\n"
   ]
  },
  {
   "cell_type": "code",
   "execution_count": 5,
   "id": "c84a8f97",
   "metadata": {},
   "outputs": [],
   "source": [
    "df_fixture_group_36 = df_fixture[:36].copy()\n",
    "df_fixture_knockout = df_fixture[36:44].copy()\n",
    "df_fixture_quarter = df_fixture[44:48].copy()\n",
    "df_fixture_semi = df_fixture[48:50].copy()\n",
    "df_fixture_final = df_fixture[50:].copy()"
   ]
  },
  {
   "cell_type": "code",
   "execution_count": 6,
   "id": "ad5ada45",
   "metadata": {},
   "outputs": [],
   "source": [
    "#run all match in a group stage \n",
    "for group in dict_table:\n",
    "    teams_in_group = dict_table[group]['Équipe'].values\n",
    "    df_fixture_group_6 = df_fixture_group_36[df_fixture_group_36['home'].isin(teams_in_group)] #represent 6 match in 1 group\n",
    "    for index, row in df_fixture_group_6.iterrows():\n",
    "        home, away = row['home'], row['away']\n",
    "        points_home, points_away = predict_points(home, away)\n",
    "        dict_table[group].loc[dict_table[group]['Équipe'] == home, 'Pts'] += points_home\n",
    "        dict_table[group].loc[dict_table[group]['Équipe'] == away, 'Pts'] += points_away\n",
    "\n",
    "    dict_table[group] = dict_table[group].sort_values('Pts', ascending=False).reset_index()\n",
    "    dict_table[group] = dict_table[group][['Équipe', 'Pts']]\n",
    "    dict_table[group] = dict_table[group].round(0)"
   ]
  },
  {
   "cell_type": "code",
   "execution_count": 7,
   "id": "b61d3dc1",
   "metadata": {},
   "outputs": [],
   "source": [
    "for group in dict_table:\n",
    "    group_winner = dict_table[group].loc[0, 'Équipe']\n",
    "    runners_up = dict_table[group].loc[1, 'Équipe']\n",
    "    df_fixture_knockout.replace({f'1{group}':group_winner, f'2{group}':runners_up}, inplace=True)\n",
    "\n",
    "df_fixture_knockout['winner'] = '?'"
   ]
  },
  {
   "cell_type": "code",
   "execution_count": 8,
   "id": "3a902a2b",
   "metadata": {},
   "outputs": [],
   "source": [
    "# Définir une fonction pour remplacer les noms des équipes par les vainqueurs et les deuxièmes places\n",
    "def replace_teams(row):\n",
    "    home = row['home']\n",
    "    away = row['away']\n",
    "\n",
    "    # Extraire la lettre du groupe à partir de 'home' et 'away'\n",
    "    group_home = home[1:]\n",
    "    group_away = away[1:]\n",
    "    \n",
    "\n",
    "    # Remplacer les noms des équipes en fonction du groupe\n",
    "    if home.startswith('1'):\n",
    "        home = dict_table[f'Group {group_home}'].loc[0, 'Équipe']\n",
    "    if away.startswith('1'):\n",
    "        away = dict_table[f'Group {group_away}'].loc[0, 'Équipe']\n",
    "    if home.startswith('2'):\n",
    "        home = dict_table[f'Group {group_home}'].loc[1, 'Équipe']\n",
    "    if away.startswith('2'):\n",
    "        away = dict_table[f'Group {group_away}'].loc[1, 'Équipe']\n",
    "\n",
    "    # Retourner les noms des équipes modifiés\n",
    "    return home, away\n",
    "\n",
    "# Appliquer la fonction de remplacement sur les lignes du DataFrame\n",
    "df_fixture_knockout[['home', 'away']] = df_fixture_knockout[['home', 'away']].apply(replace_teams, axis=1, result_type='expand')\n",
    "df_fixture_knockout['away'].replace('3A/D/E/F', 'Hongrie', inplace=True)\n",
    "df_fixture_knockout['away'].replace('3D/E/F', 'Ukraine', inplace=True)\n",
    "df_fixture_knockout['away'].replace('3A/B/C', 'Croatie', inplace=True)\n",
    "df_fixture_knockout['away'].replace('3A/B/C/D', 'Pologne', inplace=True)"
   ]
  },
  {
   "cell_type": "code",
   "execution_count": 9,
   "id": "e821197d",
   "metadata": {},
   "outputs": [],
   "source": [
    "def get_winner(df_fixture_updated):\n",
    "    for index, row in df_fixture_updated.iterrows():\n",
    "        home, away = row['home'], row['away']\n",
    "        points_home, points_away = predict_points(home, away)\n",
    "        if points_home > points_away:\n",
    "            winner = home\n",
    "        else:\n",
    "            winner = away\n",
    "        df_fixture_updated.loc[index, 'winner'] = winner\n",
    "    return df_fixture_updated"
   ]
  },
  {
   "cell_type": "code",
   "execution_count": 10,
   "id": "f38521a9",
   "metadata": {},
   "outputs": [
    {
     "data": {
      "text/html": [
       "<div>\n",
       "<style scoped>\n",
       "    .dataframe tbody tr th:only-of-type {\n",
       "        vertical-align: middle;\n",
       "    }\n",
       "\n",
       "    .dataframe tbody tr th {\n",
       "        vertical-align: top;\n",
       "    }\n",
       "\n",
       "    .dataframe thead th {\n",
       "        text-align: right;\n",
       "    }\n",
       "</style>\n",
       "<table border=\"1\" class=\"dataframe\">\n",
       "  <thead>\n",
       "    <tr style=\"text-align: right;\">\n",
       "      <th></th>\n",
       "      <th>home</th>\n",
       "      <th>score</th>\n",
       "      <th>away</th>\n",
       "      <th>year</th>\n",
       "      <th>winner</th>\n",
       "    </tr>\n",
       "  </thead>\n",
       "  <tbody>\n",
       "    <tr>\n",
       "      <th>36</th>\n",
       "      <td>Allemagne</td>\n",
       "      <td>Match 37</td>\n",
       "      <td>Danemark</td>\n",
       "      <td>2024</td>\n",
       "      <td>Allemagne</td>\n",
       "    </tr>\n",
       "    <tr>\n",
       "      <th>37</th>\n",
       "      <td>Suisse</td>\n",
       "      <td>Match 38</td>\n",
       "      <td>Italie</td>\n",
       "      <td>2024</td>\n",
       "      <td>Italie</td>\n",
       "    </tr>\n",
       "    <tr>\n",
       "      <th>38</th>\n",
       "      <td>Espagne</td>\n",
       "      <td>Match 39</td>\n",
       "      <td>Hongrie</td>\n",
       "      <td>2024</td>\n",
       "      <td>Espagne</td>\n",
       "    </tr>\n",
       "    <tr>\n",
       "      <th>39</th>\n",
       "      <td>Angleterre</td>\n",
       "      <td>Match 40</td>\n",
       "      <td>Ukraine</td>\n",
       "      <td>2024</td>\n",
       "      <td>Angleterre</td>\n",
       "    </tr>\n",
       "    <tr>\n",
       "      <th>40</th>\n",
       "      <td>Portugal</td>\n",
       "      <td>Match 41</td>\n",
       "      <td>Croatie</td>\n",
       "      <td>2024</td>\n",
       "      <td>Portugal</td>\n",
       "    </tr>\n",
       "    <tr>\n",
       "      <th>41</th>\n",
       "      <td>France</td>\n",
       "      <td>Match 42</td>\n",
       "      <td>Roumanie</td>\n",
       "      <td>2024</td>\n",
       "      <td>France</td>\n",
       "    </tr>\n",
       "    <tr>\n",
       "      <th>42</th>\n",
       "      <td>Belgique</td>\n",
       "      <td>Match 43</td>\n",
       "      <td>Pologne</td>\n",
       "      <td>2024</td>\n",
       "      <td>Belgique</td>\n",
       "    </tr>\n",
       "    <tr>\n",
       "      <th>43</th>\n",
       "      <td>Pays-Bas</td>\n",
       "      <td>Match 44</td>\n",
       "      <td>Tchéquie</td>\n",
       "      <td>2024</td>\n",
       "      <td>Pays-Bas</td>\n",
       "    </tr>\n",
       "  </tbody>\n",
       "</table>\n",
       "</div>"
      ],
      "text/plain": [
       "          home     score      away  year      winner\n",
       "36   Allemagne  Match 37  Danemark  2024   Allemagne\n",
       "37      Suisse  Match 38    Italie  2024      Italie\n",
       "38     Espagne  Match 39   Hongrie  2024     Espagne\n",
       "39  Angleterre  Match 40   Ukraine  2024  Angleterre\n",
       "40    Portugal  Match 41   Croatie  2024    Portugal\n",
       "41      France  Match 42  Roumanie  2024      France\n",
       "42    Belgique  Match 43   Pologne  2024    Belgique\n",
       "43    Pays-Bas  Match 44  Tchéquie  2024    Pays-Bas"
      ]
     },
     "execution_count": 10,
     "metadata": {},
     "output_type": "execute_result"
    }
   ],
   "source": [
    "get_winner(df_fixture_knockout)"
   ]
  },
  {
   "cell_type": "code",
   "execution_count": 11,
   "id": "d28d64b6",
   "metadata": {},
   "outputs": [],
   "source": [
    "def update_table(df_fixture_round_1, df_fixture_round_2):\n",
    "    for index, row in df_fixture_round_1.iterrows():\n",
    "        winner = df_fixture_round_1.loc[index, 'winner']\n",
    "        match = int(df_fixture_round_1.loc[index, 'score'].split()[1])\n",
    "        df_fixture_round_2.replace({f'W{match}':winner}, inplace=True)\n",
    "    df_fixture_round_2['winner'] = '?'\n",
    "    return df_fixture_round_2"
   ]
  },
  {
   "cell_type": "code",
   "execution_count": 14,
   "id": "0c9f0a26",
   "metadata": {},
   "outputs": [
    {
     "data": {
      "text/html": [
       "<div>\n",
       "<style scoped>\n",
       "    .dataframe tbody tr th:only-of-type {\n",
       "        vertical-align: middle;\n",
       "    }\n",
       "\n",
       "    .dataframe tbody tr th {\n",
       "        vertical-align: top;\n",
       "    }\n",
       "\n",
       "    .dataframe thead th {\n",
       "        text-align: right;\n",
       "    }\n",
       "</style>\n",
       "<table border=\"1\" class=\"dataframe\">\n",
       "  <thead>\n",
       "    <tr style=\"text-align: right;\">\n",
       "      <th></th>\n",
       "      <th>home</th>\n",
       "      <th>score</th>\n",
       "      <th>away</th>\n",
       "      <th>year</th>\n",
       "      <th>winner</th>\n",
       "    </tr>\n",
       "  </thead>\n",
       "  <tbody>\n",
       "    <tr>\n",
       "      <th>44</th>\n",
       "      <td>Espagne</td>\n",
       "      <td>Match 45</td>\n",
       "      <td>Allemagne</td>\n",
       "      <td>2024</td>\n",
       "      <td>?</td>\n",
       "    </tr>\n",
       "    <tr>\n",
       "      <th>45</th>\n",
       "      <td>Portugal</td>\n",
       "      <td>Match 46</td>\n",
       "      <td>France</td>\n",
       "      <td>2024</td>\n",
       "      <td>?</td>\n",
       "    </tr>\n",
       "    <tr>\n",
       "      <th>46</th>\n",
       "      <td>Belgique</td>\n",
       "      <td>Match 47</td>\n",
       "      <td>Pays-Bas</td>\n",
       "      <td>2024</td>\n",
       "      <td>?</td>\n",
       "    </tr>\n",
       "    <tr>\n",
       "      <th>47</th>\n",
       "      <td>Angleterre</td>\n",
       "      <td>Match 48</td>\n",
       "      <td>Italie</td>\n",
       "      <td>2024</td>\n",
       "      <td>?</td>\n",
       "    </tr>\n",
       "  </tbody>\n",
       "</table>\n",
       "</div>"
      ],
      "text/plain": [
       "          home     score       away  year winner\n",
       "44     Espagne  Match 45  Allemagne  2024      ?\n",
       "45    Portugal  Match 46     France  2024      ?\n",
       "46    Belgique  Match 47   Pays-Bas  2024      ?\n",
       "47  Angleterre  Match 48     Italie  2024      ?"
      ]
     },
     "execution_count": 14,
     "metadata": {},
     "output_type": "execute_result"
    }
   ],
   "source": [
    "update_table(df_fixture_knockout, df_fixture_quarter)"
   ]
  },
  {
   "cell_type": "code",
   "execution_count": 15,
   "id": "7536fab7",
   "metadata": {},
   "outputs": [
    {
     "data": {
      "text/html": [
       "<div>\n",
       "<style scoped>\n",
       "    .dataframe tbody tr th:only-of-type {\n",
       "        vertical-align: middle;\n",
       "    }\n",
       "\n",
       "    .dataframe tbody tr th {\n",
       "        vertical-align: top;\n",
       "    }\n",
       "\n",
       "    .dataframe thead th {\n",
       "        text-align: right;\n",
       "    }\n",
       "</style>\n",
       "<table border=\"1\" class=\"dataframe\">\n",
       "  <thead>\n",
       "    <tr style=\"text-align: right;\">\n",
       "      <th></th>\n",
       "      <th>home</th>\n",
       "      <th>score</th>\n",
       "      <th>away</th>\n",
       "      <th>year</th>\n",
       "      <th>winner</th>\n",
       "    </tr>\n",
       "  </thead>\n",
       "  <tbody>\n",
       "    <tr>\n",
       "      <th>44</th>\n",
       "      <td>Espagne</td>\n",
       "      <td>Match 45</td>\n",
       "      <td>Allemagne</td>\n",
       "      <td>2024</td>\n",
       "      <td>Espagne</td>\n",
       "    </tr>\n",
       "    <tr>\n",
       "      <th>45</th>\n",
       "      <td>Portugal</td>\n",
       "      <td>Match 46</td>\n",
       "      <td>France</td>\n",
       "      <td>2024</td>\n",
       "      <td>Portugal</td>\n",
       "    </tr>\n",
       "    <tr>\n",
       "      <th>46</th>\n",
       "      <td>Belgique</td>\n",
       "      <td>Match 47</td>\n",
       "      <td>Pays-Bas</td>\n",
       "      <td>2024</td>\n",
       "      <td>Pays-Bas</td>\n",
       "    </tr>\n",
       "    <tr>\n",
       "      <th>47</th>\n",
       "      <td>Angleterre</td>\n",
       "      <td>Match 48</td>\n",
       "      <td>Italie</td>\n",
       "      <td>2024</td>\n",
       "      <td>Italie</td>\n",
       "    </tr>\n",
       "  </tbody>\n",
       "</table>\n",
       "</div>"
      ],
      "text/plain": [
       "          home     score       away  year    winner\n",
       "44     Espagne  Match 45  Allemagne  2024   Espagne\n",
       "45    Portugal  Match 46     France  2024  Portugal\n",
       "46    Belgique  Match 47   Pays-Bas  2024  Pays-Bas\n",
       "47  Angleterre  Match 48     Italie  2024    Italie"
      ]
     },
     "execution_count": 15,
     "metadata": {},
     "output_type": "execute_result"
    }
   ],
   "source": [
    "get_winner(df_fixture_quarter)"
   ]
  },
  {
   "cell_type": "code",
   "execution_count": 16,
   "id": "fc3e281d",
   "metadata": {},
   "outputs": [
    {
     "data": {
      "text/html": [
       "<div>\n",
       "<style scoped>\n",
       "    .dataframe tbody tr th:only-of-type {\n",
       "        vertical-align: middle;\n",
       "    }\n",
       "\n",
       "    .dataframe tbody tr th {\n",
       "        vertical-align: top;\n",
       "    }\n",
       "\n",
       "    .dataframe thead th {\n",
       "        text-align: right;\n",
       "    }\n",
       "</style>\n",
       "<table border=\"1\" class=\"dataframe\">\n",
       "  <thead>\n",
       "    <tr style=\"text-align: right;\">\n",
       "      <th></th>\n",
       "      <th>home</th>\n",
       "      <th>score</th>\n",
       "      <th>away</th>\n",
       "      <th>year</th>\n",
       "      <th>winner</th>\n",
       "    </tr>\n",
       "  </thead>\n",
       "  <tbody>\n",
       "    <tr>\n",
       "      <th>48</th>\n",
       "      <td>Espagne</td>\n",
       "      <td>Match 49</td>\n",
       "      <td>Portugal</td>\n",
       "      <td>2024</td>\n",
       "      <td>?</td>\n",
       "    </tr>\n",
       "    <tr>\n",
       "      <th>49</th>\n",
       "      <td>Pays-Bas</td>\n",
       "      <td>Match 50</td>\n",
       "      <td>Italie</td>\n",
       "      <td>2024</td>\n",
       "      <td>?</td>\n",
       "    </tr>\n",
       "  </tbody>\n",
       "</table>\n",
       "</div>"
      ],
      "text/plain": [
       "        home     score      away  year winner\n",
       "48   Espagne  Match 49  Portugal  2024      ?\n",
       "49  Pays-Bas  Match 50    Italie  2024      ?"
      ]
     },
     "execution_count": 16,
     "metadata": {},
     "output_type": "execute_result"
    }
   ],
   "source": [
    "update_table(df_fixture_quarter, df_fixture_semi)"
   ]
  },
  {
   "cell_type": "code",
   "execution_count": 17,
   "id": "501333e1",
   "metadata": {},
   "outputs": [
    {
     "data": {
      "text/html": [
       "<div>\n",
       "<style scoped>\n",
       "    .dataframe tbody tr th:only-of-type {\n",
       "        vertical-align: middle;\n",
       "    }\n",
       "\n",
       "    .dataframe tbody tr th {\n",
       "        vertical-align: top;\n",
       "    }\n",
       "\n",
       "    .dataframe thead th {\n",
       "        text-align: right;\n",
       "    }\n",
       "</style>\n",
       "<table border=\"1\" class=\"dataframe\">\n",
       "  <thead>\n",
       "    <tr style=\"text-align: right;\">\n",
       "      <th></th>\n",
       "      <th>home</th>\n",
       "      <th>score</th>\n",
       "      <th>away</th>\n",
       "      <th>year</th>\n",
       "      <th>winner</th>\n",
       "    </tr>\n",
       "  </thead>\n",
       "  <tbody>\n",
       "    <tr>\n",
       "      <th>48</th>\n",
       "      <td>Espagne</td>\n",
       "      <td>Match 49</td>\n",
       "      <td>Portugal</td>\n",
       "      <td>2024</td>\n",
       "      <td>Espagne</td>\n",
       "    </tr>\n",
       "    <tr>\n",
       "      <th>49</th>\n",
       "      <td>Pays-Bas</td>\n",
       "      <td>Match 50</td>\n",
       "      <td>Italie</td>\n",
       "      <td>2024</td>\n",
       "      <td>Italie</td>\n",
       "    </tr>\n",
       "  </tbody>\n",
       "</table>\n",
       "</div>"
      ],
      "text/plain": [
       "        home     score      away  year   winner\n",
       "48   Espagne  Match 49  Portugal  2024  Espagne\n",
       "49  Pays-Bas  Match 50    Italie  2024   Italie"
      ]
     },
     "execution_count": 17,
     "metadata": {},
     "output_type": "execute_result"
    }
   ],
   "source": [
    "get_winner(df_fixture_semi)"
   ]
  },
  {
   "cell_type": "code",
   "execution_count": 18,
   "id": "5f40d5ff",
   "metadata": {},
   "outputs": [
    {
     "data": {
      "text/html": [
       "<div>\n",
       "<style scoped>\n",
       "    .dataframe tbody tr th:only-of-type {\n",
       "        vertical-align: middle;\n",
       "    }\n",
       "\n",
       "    .dataframe tbody tr th {\n",
       "        vertical-align: top;\n",
       "    }\n",
       "\n",
       "    .dataframe thead th {\n",
       "        text-align: right;\n",
       "    }\n",
       "</style>\n",
       "<table border=\"1\" class=\"dataframe\">\n",
       "  <thead>\n",
       "    <tr style=\"text-align: right;\">\n",
       "      <th></th>\n",
       "      <th>home</th>\n",
       "      <th>score</th>\n",
       "      <th>away</th>\n",
       "      <th>year</th>\n",
       "      <th>winner</th>\n",
       "    </tr>\n",
       "  </thead>\n",
       "  <tbody>\n",
       "    <tr>\n",
       "      <th>50</th>\n",
       "      <td>Espagne</td>\n",
       "      <td>Match 51</td>\n",
       "      <td>Italie</td>\n",
       "      <td>2024</td>\n",
       "      <td>?</td>\n",
       "    </tr>\n",
       "  </tbody>\n",
       "</table>\n",
       "</div>"
      ],
      "text/plain": [
       "       home     score    away  year winner\n",
       "50  Espagne  Match 51  Italie  2024      ?"
      ]
     },
     "execution_count": 18,
     "metadata": {},
     "output_type": "execute_result"
    }
   ],
   "source": [
    "update_table(df_fixture_semi, df_fixture_final)"
   ]
  },
  {
   "cell_type": "code",
   "execution_count": 19,
   "id": "20369001",
   "metadata": {},
   "outputs": [
    {
     "data": {
      "text/html": [
       "<div>\n",
       "<style scoped>\n",
       "    .dataframe tbody tr th:only-of-type {\n",
       "        vertical-align: middle;\n",
       "    }\n",
       "\n",
       "    .dataframe tbody tr th {\n",
       "        vertical-align: top;\n",
       "    }\n",
       "\n",
       "    .dataframe thead th {\n",
       "        text-align: right;\n",
       "    }\n",
       "</style>\n",
       "<table border=\"1\" class=\"dataframe\">\n",
       "  <thead>\n",
       "    <tr style=\"text-align: right;\">\n",
       "      <th></th>\n",
       "      <th>home</th>\n",
       "      <th>score</th>\n",
       "      <th>away</th>\n",
       "      <th>year</th>\n",
       "      <th>winner</th>\n",
       "    </tr>\n",
       "  </thead>\n",
       "  <tbody>\n",
       "    <tr>\n",
       "      <th>50</th>\n",
       "      <td>Espagne</td>\n",
       "      <td>Match 51</td>\n",
       "      <td>Italie</td>\n",
       "      <td>2024</td>\n",
       "      <td>Italie</td>\n",
       "    </tr>\n",
       "  </tbody>\n",
       "</table>\n",
       "</div>"
      ],
      "text/plain": [
       "       home     score    away  year  winner\n",
       "50  Espagne  Match 51  Italie  2024  Italie"
      ]
     },
     "execution_count": 19,
     "metadata": {},
     "output_type": "execute_result"
    }
   ],
   "source": [
    "get_winner(df_fixture_final)"
   ]
  }
 ],
 "metadata": {
  "kernelspec": {
   "display_name": "Python 3 (ipykernel)",
   "language": "python",
   "name": "python3"
  },
  "language_info": {
   "codemirror_mode": {
    "name": "ipython",
    "version": 3
   },
   "file_extension": ".py",
   "mimetype": "text/x-python",
   "name": "python",
   "nbconvert_exporter": "python",
   "pygments_lexer": "ipython3",
   "version": "3.11.4"
  }
 },
 "nbformat": 4,
 "nbformat_minor": 5
}
